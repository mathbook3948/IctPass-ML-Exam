{
 "cells": [
  {
   "cell_type": "code",
   "execution_count": 1,
   "id": "initial_id",
   "metadata": {
    "ExecuteTime": {
     "end_time": "2025-02-07T00:09:58.569778Z",
     "start_time": "2025-02-07T00:09:53.759130Z"
    },
    "collapsed": true,
    "jupyter": {
     "outputs_hidden": true
    }
   },
   "outputs": [],
   "source": [
    "import pandas as pd\n",
    "import re\n",
    "from konlpy.tag import Okt\n",
    "from sklearn.model_selection import train_test_split\n",
    "from sklearn.feature_extraction.text import CountVectorizer\n",
    "from sklearn.neighbors import KNeighborsClassifier\n",
    "from sklearn.linear_model import LogisticRegression\n",
    "from sklearn.metrics import accuracy_score"
   ]
  },
  {
   "cell_type": "code",
   "execution_count": 2,
   "id": "2c247fe304218721",
   "metadata": {
    "ExecuteTime": {
     "end_time": "2025-02-07T00:09:59.549763Z",
     "start_time": "2025-02-07T00:09:59.241927Z"
    }
   },
   "outputs": [
    {
     "data": {
      "text/html": [
       "<div>\n",
       "<style scoped>\n",
       "    .dataframe tbody tr th:only-of-type {\n",
       "        vertical-align: middle;\n",
       "    }\n",
       "\n",
       "    .dataframe tbody tr th {\n",
       "        vertical-align: top;\n",
       "    }\n",
       "\n",
       "    .dataframe thead th {\n",
       "        text-align: right;\n",
       "    }\n",
       "</style>\n",
       "<table border=\"1\" class=\"dataframe\">\n",
       "  <thead>\n",
       "    <tr style=\"text-align: right;\">\n",
       "      <th></th>\n",
       "      <th>id</th>\n",
       "      <th>document</th>\n",
       "      <th>label</th>\n",
       "    </tr>\n",
       "  </thead>\n",
       "  <tbody>\n",
       "    <tr>\n",
       "      <th>0</th>\n",
       "      <td>8112052</td>\n",
       "      <td>어릴때보고 지금다시봐도 재밌어요ㅋㅋ</td>\n",
       "      <td>1</td>\n",
       "    </tr>\n",
       "    <tr>\n",
       "      <th>1</th>\n",
       "      <td>8132799</td>\n",
       "      <td>디자인을 배우는 학생으로, 외국디자이너와 그들이 일군 전통을 통해 발전해가는 문화산...</td>\n",
       "      <td>1</td>\n",
       "    </tr>\n",
       "    <tr>\n",
       "      <th>2</th>\n",
       "      <td>4655635</td>\n",
       "      <td>폴리스스토리 시리즈는 1부터 뉴까지 버릴께 하나도 없음.. 최고.</td>\n",
       "      <td>1</td>\n",
       "    </tr>\n",
       "    <tr>\n",
       "      <th>3</th>\n",
       "      <td>9251303</td>\n",
       "      <td>와.. 연기가 진짜 개쩔구나.. 지루할거라고 생각했는데 몰입해서 봤다.. 그래 이런...</td>\n",
       "      <td>1</td>\n",
       "    </tr>\n",
       "    <tr>\n",
       "      <th>4</th>\n",
       "      <td>10067386</td>\n",
       "      <td>안개 자욱한 밤하늘에 떠 있는 초승달 같은 영화.</td>\n",
       "      <td>1</td>\n",
       "    </tr>\n",
       "  </tbody>\n",
       "</table>\n",
       "</div>"
      ],
      "text/plain": [
       "         id                                           document  label\n",
       "0   8112052                                어릴때보고 지금다시봐도 재밌어요ㅋㅋ      1\n",
       "1   8132799  디자인을 배우는 학생으로, 외국디자이너와 그들이 일군 전통을 통해 발전해가는 문화산...      1\n",
       "2   4655635               폴리스스토리 시리즈는 1부터 뉴까지 버릴께 하나도 없음.. 최고.      1\n",
       "3   9251303  와.. 연기가 진짜 개쩔구나.. 지루할거라고 생각했는데 몰입해서 봤다.. 그래 이런...      1\n",
       "4  10067386                        안개 자욱한 밤하늘에 떠 있는 초승달 같은 영화.      1"
      ]
     },
     "execution_count": 2,
     "metadata": {},
     "output_type": "execute_result"
    }
   ],
   "source": [
    "df = pd.read_csv('ratings.txt', delimiter='\\t', header=0)\n",
    "df.head()"
   ]
  },
  {
   "cell_type": "code",
   "execution_count": 3,
   "id": "a11e628e404ecbaa",
   "metadata": {
    "ExecuteTime": {
     "end_time": "2025-02-07T00:10:00.584417Z",
     "start_time": "2025-02-07T00:10:00.555328Z"
    }
   },
   "outputs": [
    {
     "name": "stdout",
     "output_type": "stream",
     "text": [
      "결측치 제거 전 데이터셋 길이: 200000\n",
      "각 컬럼별 결측치 개수:  id          0\n",
      "document    8\n",
      "label       0\n",
      "dtype: int64\n",
      "결측치 제거 후 데이터셋 길이: 199992 \n",
      "\n"
     ]
    }
   ],
   "source": [
    "print(\"결측치 제거 전 데이터셋 길이:\", len(df))\n",
    "print(\"각 컬럼별 결측치 개수: \", df.isnull().sum())\n",
    "df = df.dropna() # 결측치가 있는 행 제거\n",
    "print(\"결측치 제거 후 데이터셋 길이:\", len(df), \"\\n\")"
   ]
  },
  {
   "cell_type": "code",
   "execution_count": 4,
   "id": "5f319d11d595b0c7",
   "metadata": {
    "ExecuteTime": {
     "end_time": "2025-02-07T00:10:01.688621Z",
     "start_time": "2025-02-07T00:10:01.042325Z"
    }
   },
   "outputs": [],
   "source": [
    "okt = Okt()\n",
    "stopwords = ['의', '가', '이', '은', '들', '는', '좀', '잘', '걍', '과', '도', '를', '으로', '자', '에', '와', '한', '하다']"
   ]
  },
  {
   "cell_type": "code",
   "execution_count": 5,
   "id": "a1eaeb875eb99d37",
   "metadata": {
    "ExecuteTime": {
     "end_time": "2025-02-07T00:10:01.695625Z",
     "start_time": "2025-02-07T00:10:01.692986Z"
    }
   },
   "outputs": [],
   "source": [
    "def text_preprocess(text):\n",
    "    text = re.sub(r'[^ㄱ-ㅎㅏ-ㅣ가-힣 ]', '', text) # 한글과 공백만 남김\n",
    "    tokens = okt.morphs(text, stem=True) # 형태소 분석 및 어간 추출\n",
    "    tokens = [word for word in tokens if word not in stopwords] # 불용어 제거\n",
    "    return ' '.join(tokens)"
   ]
  },
  {
   "cell_type": "code",
   "execution_count": 6,
   "id": "4278dba193a0cba7",
   "metadata": {
    "ExecuteTime": {
     "end_time": "2025-02-07T00:10:03.251200Z",
     "start_time": "2025-02-07T00:10:01.827810Z"
    }
   },
   "outputs": [
    {
     "name": "stdout",
     "output_type": "stream",
     "text": [
      "원문: 어릴때보고 지금다시봐도 재밌어요ㅋㅋ\n",
      "전처리: 어리다 때 보고 지금 다시 보다 재밌다 ㅋㅋ \n",
      "\n"
     ]
    }
   ],
   "source": [
    "sample_text = df['document'].iloc[0]\n",
    "print(\"원문:\", sample_text)\n",
    "print(\"전처리:\", text_preprocess(sample_text), \"\\n\")"
   ]
  },
  {
   "cell_type": "code",
   "execution_count": 16,
   "id": "f7bdbefddeb866ab",
   "metadata": {
    "ExecuteTime": {
     "end_time": "2025-02-07T00:17:26.183983Z",
     "start_time": "2025-02-07T00:13:39.607670Z"
    }
   },
   "outputs": [
    {
     "data": {
      "text/html": [
       "<div>\n",
       "<style scoped>\n",
       "    .dataframe tbody tr th:only-of-type {\n",
       "        vertical-align: middle;\n",
       "    }\n",
       "\n",
       "    .dataframe tbody tr th {\n",
       "        vertical-align: top;\n",
       "    }\n",
       "\n",
       "    .dataframe thead th {\n",
       "        text-align: right;\n",
       "    }\n",
       "</style>\n",
       "<table border=\"1\" class=\"dataframe\">\n",
       "  <thead>\n",
       "    <tr style=\"text-align: right;\">\n",
       "      <th></th>\n",
       "      <th>id</th>\n",
       "      <th>document</th>\n",
       "      <th>label</th>\n",
       "      <th>document2</th>\n",
       "    </tr>\n",
       "  </thead>\n",
       "  <tbody>\n",
       "    <tr>\n",
       "      <th>0</th>\n",
       "      <td>8112052</td>\n",
       "      <td>어릴때보고 지금다시봐도 재밌어요ㅋㅋ</td>\n",
       "      <td>1</td>\n",
       "      <td>어리다 때 보고 지금 다시 보다 재밌다 ㅋㅋ</td>\n",
       "    </tr>\n",
       "    <tr>\n",
       "      <th>1</th>\n",
       "      <td>8132799</td>\n",
       "      <td>디자인을 배우는 학생으로, 외국디자이너와 그들이 일군 전통을 통해 발전해가는 문화산...</td>\n",
       "      <td>1</td>\n",
       "      <td>디자인 을 배우다 학생 외국 디자이너 그 일군 전통 을 통해 발전 문화 산업 부럽다...</td>\n",
       "    </tr>\n",
       "    <tr>\n",
       "      <th>2</th>\n",
       "      <td>4655635</td>\n",
       "      <td>폴리스스토리 시리즈는 1부터 뉴까지 버릴께 하나도 없음.. 최고.</td>\n",
       "      <td>1</td>\n",
       "      <td>폴리스스토리 시리즈 부터 뉴 까지 버리다 하나 없다 최고</td>\n",
       "    </tr>\n",
       "    <tr>\n",
       "      <th>3</th>\n",
       "      <td>9251303</td>\n",
       "      <td>와.. 연기가 진짜 개쩔구나.. 지루할거라고 생각했는데 몰입해서 봤다.. 그래 이런...</td>\n",
       "      <td>1</td>\n",
       "      <td>오다 연기 진짜 개 쩔다 지루하다 생각 몰입 보다 그렇다 이렇다 진짜 영화 지</td>\n",
       "    </tr>\n",
       "    <tr>\n",
       "      <th>4</th>\n",
       "      <td>10067386</td>\n",
       "      <td>안개 자욱한 밤하늘에 떠 있는 초승달 같은 영화.</td>\n",
       "      <td>1</td>\n",
       "      <td>안개 자욱하다 밤하늘 뜨다 있다 초승달 같다 영화</td>\n",
       "    </tr>\n",
       "  </tbody>\n",
       "</table>\n",
       "</div>"
      ],
      "text/plain": [
       "         id                                           document  label  \\\n",
       "0   8112052                                어릴때보고 지금다시봐도 재밌어요ㅋㅋ      1   \n",
       "1   8132799  디자인을 배우는 학생으로, 외국디자이너와 그들이 일군 전통을 통해 발전해가는 문화산...      1   \n",
       "2   4655635               폴리스스토리 시리즈는 1부터 뉴까지 버릴께 하나도 없음.. 최고.      1   \n",
       "3   9251303  와.. 연기가 진짜 개쩔구나.. 지루할거라고 생각했는데 몰입해서 봤다.. 그래 이런...      1   \n",
       "4  10067386                        안개 자욱한 밤하늘에 떠 있는 초승달 같은 영화.      1   \n",
       "\n",
       "                                           document2  \n",
       "0                           어리다 때 보고 지금 다시 보다 재밌다 ㅋㅋ  \n",
       "1  디자인 을 배우다 학생 외국 디자이너 그 일군 전통 을 통해 발전 문화 산업 부럽다...  \n",
       "2                    폴리스스토리 시리즈 부터 뉴 까지 버리다 하나 없다 최고  \n",
       "3        오다 연기 진짜 개 쩔다 지루하다 생각 몰입 보다 그렇다 이렇다 진짜 영화 지  \n",
       "4                        안개 자욱하다 밤하늘 뜨다 있다 초승달 같다 영화  "
      ]
     },
     "execution_count": 16,
     "metadata": {},
     "output_type": "execute_result"
    }
   ],
   "source": [
    "df['document2'] = df['document'].apply(text_preprocess)\n",
    "df.to_csv('rating.csv', index=False, encoding='utf-8')\n",
    "df.head()"
   ]
  },
  {
   "cell_type": "code",
   "execution_count": 8,
   "id": "a8539e62f8e10f3b",
   "metadata": {
    "ExecuteTime": {
     "end_time": "2025-02-07T00:12:01.664514Z",
     "start_time": "2025-02-07T00:12:01.048182Z"
    }
   },
   "outputs": [
    {
     "data": {
      "text/html": [
       "<div>\n",
       "<style scoped>\n",
       "    .dataframe tbody tr th:only-of-type {\n",
       "        vertical-align: middle;\n",
       "    }\n",
       "\n",
       "    .dataframe tbody tr th {\n",
       "        vertical-align: top;\n",
       "    }\n",
       "\n",
       "    .dataframe thead th {\n",
       "        text-align: right;\n",
       "    }\n",
       "</style>\n",
       "<table border=\"1\" class=\"dataframe\">\n",
       "  <thead>\n",
       "    <tr style=\"text-align: right;\">\n",
       "      <th></th>\n",
       "      <th>id</th>\n",
       "      <th>document</th>\n",
       "      <th>label</th>\n",
       "      <th>document2</th>\n",
       "    </tr>\n",
       "  </thead>\n",
       "  <tbody>\n",
       "    <tr>\n",
       "      <th>0</th>\n",
       "      <td>8112052</td>\n",
       "      <td>어릴때보고 지금다시봐도 재밌어요ㅋㅋ</td>\n",
       "      <td>1</td>\n",
       "      <td>어리다 때 보고 지금 다시 보다 재밌다 ㅋㅋ</td>\n",
       "    </tr>\n",
       "    <tr>\n",
       "      <th>1</th>\n",
       "      <td>8132799</td>\n",
       "      <td>디자인을 배우는 학생으로, 외국디자이너와 그들이 일군 전통을 통해 발전해가는 문화산...</td>\n",
       "      <td>1</td>\n",
       "      <td>디자인 을 배우다 학생 외국 디자이너 그 일군 전통 을 통해 발전 문화 산업 부럽다...</td>\n",
       "    </tr>\n",
       "    <tr>\n",
       "      <th>2</th>\n",
       "      <td>4655635</td>\n",
       "      <td>폴리스스토리 시리즈는 1부터 뉴까지 버릴께 하나도 없음.. 최고.</td>\n",
       "      <td>1</td>\n",
       "      <td>폴리스스토리 시리즈 부터 뉴 까지 버리다 하나 없다 최고</td>\n",
       "    </tr>\n",
       "    <tr>\n",
       "      <th>3</th>\n",
       "      <td>9251303</td>\n",
       "      <td>와.. 연기가 진짜 개쩔구나.. 지루할거라고 생각했는데 몰입해서 봤다.. 그래 이런...</td>\n",
       "      <td>1</td>\n",
       "      <td>오다 연기 진짜 개 쩔다 지루하다 생각 몰입 보다 그렇다 이렇다 진짜 영화 지</td>\n",
       "    </tr>\n",
       "    <tr>\n",
       "      <th>4</th>\n",
       "      <td>10067386</td>\n",
       "      <td>안개 자욱한 밤하늘에 떠 있는 초승달 같은 영화.</td>\n",
       "      <td>1</td>\n",
       "      <td>안개 자욱하다 밤하늘 뜨다 있다 초승달 같다 영화</td>\n",
       "    </tr>\n",
       "  </tbody>\n",
       "</table>\n",
       "</div>"
      ],
      "text/plain": [
       "         id                                           document  label  \\\n",
       "0   8112052                                어릴때보고 지금다시봐도 재밌어요ㅋㅋ      1   \n",
       "1   8132799  디자인을 배우는 학생으로, 외국디자이너와 그들이 일군 전통을 통해 발전해가는 문화산...      1   \n",
       "2   4655635               폴리스스토리 시리즈는 1부터 뉴까지 버릴께 하나도 없음.. 최고.      1   \n",
       "3   9251303  와.. 연기가 진짜 개쩔구나.. 지루할거라고 생각했는데 몰입해서 봤다.. 그래 이런...      1   \n",
       "4  10067386                        안개 자욱한 밤하늘에 떠 있는 초승달 같은 영화.      1   \n",
       "\n",
       "                                           document2  \n",
       "0                           어리다 때 보고 지금 다시 보다 재밌다 ㅋㅋ  \n",
       "1  디자인 을 배우다 학생 외국 디자이너 그 일군 전통 을 통해 발전 문화 산업 부럽다...  \n",
       "2                    폴리스스토리 시리즈 부터 뉴 까지 버리다 하나 없다 최고  \n",
       "3        오다 연기 진짜 개 쩔다 지루하다 생각 몰입 보다 그렇다 이렇다 진짜 영화 지  \n",
       "4                        안개 자욱하다 밤하늘 뜨다 있다 초승달 같다 영화  "
      ]
     },
     "execution_count": 8,
     "metadata": {},
     "output_type": "execute_result"
    }
   ],
   "source": [
    "df = pd.read_csv('rating.csv', delimiter=',')\n",
    "df.head()"
   ]
  },
  {
   "cell_type": "code",
   "execution_count": 17,
   "id": "f7e04a278996b9ed",
   "metadata": {
    "ExecuteTime": {
     "end_time": "2025-02-07T00:17:32.497687Z",
     "start_time": "2025-02-07T00:17:32.479014Z"
    }
   },
   "outputs": [],
   "source": [
    "X = df['document2']\n",
    "y = df['label']\n",
    "X_train, X_test, y_train, y_test = train_test_split(X, y, test_size=0.2, random_state=456)"
   ]
  },
  {
   "cell_type": "code",
   "execution_count": 18,
   "id": "62e5d0607a9a88fe",
   "metadata": {
    "ExecuteTime": {
     "end_time": "2025-02-07T00:17:35.088550Z",
     "start_time": "2025-02-07T00:17:34.094058Z"
    }
   },
   "outputs": [
    {
     "name": "stdout",
     "output_type": "stream",
     "text": [
      "학습용 데이터 : 159993 , 테스트용 데이터 : 39999 \n",
      "\n"
     ]
    }
   ],
   "source": [
    "vectorizer = CountVectorizer()\n",
    "X_train_vec = vectorizer.fit_transform(X_train)\n",
    "X_test_vec = vectorizer.transform(X_test)\n",
    "\n",
    "print(\"학습용 데이터 :\", X_train_vec.shape[0], \", 테스트용 데이터 :\", X_test_vec.shape[0], \"\\n\")\n"
   ]
  },
  {
   "cell_type": "code",
   "execution_count": 19,
   "id": "90413b979a0c6928",
   "metadata": {
    "ExecuteTime": {
     "end_time": "2025-02-07T00:19:49.448211Z",
     "start_time": "2025-02-07T00:17:37.129231Z"
    }
   },
   "outputs": [
    {
     "name": "stdout",
     "output_type": "stream",
     "text": [
      "KNN 모델 정확도: 0.7272181804545114\n"
     ]
    }
   ],
   "source": [
    "knn = KNeighborsClassifier(n_neighbors=3)\n",
    "knn.fit(X_train_vec, y_train)\n",
    "y_pred_knn = knn.predict(X_test_vec)\n",
    "acc_knn = accuracy_score(y_test, y_pred_knn)\n",
    "print(f\"KNN 모델 정확도: {acc_knn}\")\n"
   ]
  },
  {
   "cell_type": "code",
   "execution_count": 20,
   "id": "f742d3e6e32d48ab",
   "metadata": {
    "ExecuteTime": {
     "end_time": "2025-02-07T00:21:05.896882Z",
     "start_time": "2025-02-07T00:21:05.892388Z"
    }
   },
   "outputs": [
    {
     "name": "stdout",
     "output_type": "stream",
     "text": [
      "best k : 3\n"
     ]
    }
   ],
   "source": [
    "print(f\"best k : {knn.get_params()['n_neighbors']}\")"
   ]
  },
  {
   "cell_type": "code",
   "execution_count": 21,
   "id": "1a85a8dc7b31099b",
   "metadata": {
    "ExecuteTime": {
     "end_time": "2025-02-07T00:21:08.388717Z",
     "start_time": "2025-02-07T00:21:06.835009Z"
    }
   },
   "outputs": [
    {
     "name": "stdout",
     "output_type": "stream",
     "text": [
      "로지스틱 회귀 모델 정확도: 0.8272456811420286\n"
     ]
    }
   ],
   "source": [
    "lr = LogisticRegression(max_iter=1000)\n",
    "lr.fit(X_train_vec, y_train)\n",
    "y_pred_lr = lr.predict(X_test_vec)\n",
    "acc_lr = accuracy_score(y_test, y_pred_lr)\n",
    "print(f\"로지스틱 회귀 모델 정확도: {acc_lr}\")"
   ]
  },
  {
   "cell_type": "code",
   "execution_count": 22,
   "id": "25d30be0a5ee1fe1",
   "metadata": {
    "ExecuteTime": {
     "end_time": "2025-02-07T00:21:24.473985Z",
     "start_time": "2025-02-07T00:21:10.575914Z"
    }
   },
   "outputs": [],
   "source": [
    "new_review = input(\"새로운 리뷰를 입력하세요: \") # : 이 영화 그저그럼. 추천 안해요\n",
    "new_review_processed = text_preprocess(new_review)\n",
    "new_review_vec = vectorizer.transform([new_review_processed])"
   ]
  },
  {
   "cell_type": "code",
   "execution_count": 23,
   "id": "4f4ef038510c068f",
   "metadata": {
    "ExecuteTime": {
     "end_time": "2025-02-07T00:21:32.190707Z",
     "start_time": "2025-02-07T00:21:32.129140Z"
    }
   },
   "outputs": [],
   "source": [
    "pred_knn = knn.predict(new_review_vec)[0]\n",
    "pred_lr = lr.predict(new_review_vec)[0]"
   ]
  },
  {
   "cell_type": "code",
   "execution_count": 14,
   "id": "fa4879b525beade1",
   "metadata": {
    "ExecuteTime": {
     "end_time": "2025-02-07T00:11:55.873243Z",
     "start_time": "2025-02-06T05:54:23.811302Z"
    }
   },
   "outputs": [
    {
     "name": "stdout",
     "output_type": "stream",
     "text": [
      "KNN 모델 예측 결과: 긍정\n",
      "로지스틱 회귀 모델 예측 결과: 긍정\n"
     ]
    }
   ],
   "source": [
    "def label_to_sentiment(label):\n",
    "    return \"긍정\" if label == 1 else \"부정\"\n",
    "\n",
    "print(\"KNN 모델 예측 결과:\", label_to_sentiment(pred_knn))\n",
    "print(\"로지스틱 회귀 모델 예측 결과:\", label_to_sentiment(pred_lr))"
   ]
  },
  {
   "cell_type": "code",
   "execution_count": null,
   "id": "1b2c43ddf130b23a",
   "metadata": {},
   "outputs": [],
   "source": []
  }
 ],
 "metadata": {
  "kernelspec": {
   "display_name": "Python (tensorflow)",
   "language": "python",
   "name": "tensorflow"
  },
  "language_info": {
   "codemirror_mode": {
    "name": "ipython",
    "version": 3
   },
   "file_extension": ".py",
   "mimetype": "text/x-python",
   "name": "python",
   "nbconvert_exporter": "python",
   "pygments_lexer": "ipython3",
   "version": "3.9.7"
  }
 },
 "nbformat": 4,
 "nbformat_minor": 5
}
