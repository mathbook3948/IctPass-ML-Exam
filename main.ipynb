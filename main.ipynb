{
 "cells": [
  {
   "cell_type": "code",
   "id": "initial_id",
   "metadata": {
    "collapsed": true,
    "ExecuteTime": {
     "end_time": "2025-02-06T05:44:45.103117Z",
     "start_time": "2025-02-06T05:44:44.167353Z"
    }
   },
   "source": [
    "import pandas as pd\n",
    "import re\n",
    "from konlpy.tag import Okt\n",
    "from sklearn.model_selection import train_test_split\n",
    "from sklearn.feature_extraction.text import CountVectorizer\n",
    "from sklearn.neighbors import KNeighborsClassifier\n",
    "from sklearn.linear_model import LogisticRegression\n",
    "from sklearn.metrics import accuracy_score"
   ],
   "outputs": [],
   "execution_count": 1
  },
  {
   "metadata": {
    "ExecuteTime": {
     "end_time": "2025-02-06T05:44:45.421177Z",
     "start_time": "2025-02-06T05:44:45.115525Z"
    }
   },
   "cell_type": "code",
   "source": [
    "df = pd.read_csv('ratings.txt', delimiter='\\t', header=0)\n",
    "print(\"1) 데이터 읽기 결과:\")\n",
    "df.head()"
   ],
   "id": "2c247fe304218721",
   "outputs": [
    {
     "name": "stdout",
     "output_type": "stream",
     "text": [
      "1) 데이터 읽기 결과:\n"
     ]
    },
    {
     "data": {
      "text/plain": [
       "         id                                           document  label\n",
       "0   8112052                                어릴때보고 지금다시봐도 재밌어요ㅋㅋ      1\n",
       "1   8132799  디자인을 배우는 학생으로, 외국디자이너와 그들이 일군 전통을 통해 발전해가는 문화산...      1\n",
       "2   4655635               폴리스스토리 시리즈는 1부터 뉴까지 버릴께 하나도 없음.. 최고.      1\n",
       "3   9251303  와.. 연기가 진짜 개쩔구나.. 지루할거라고 생각했는데 몰입해서 봤다.. 그래 이런...      1\n",
       "4  10067386                        안개 자욱한 밤하늘에 떠 있는 초승달 같은 영화.      1"
      ],
      "text/html": [
       "<div>\n",
       "<style scoped>\n",
       "    .dataframe tbody tr th:only-of-type {\n",
       "        vertical-align: middle;\n",
       "    }\n",
       "\n",
       "    .dataframe tbody tr th {\n",
       "        vertical-align: top;\n",
       "    }\n",
       "\n",
       "    .dataframe thead th {\n",
       "        text-align: right;\n",
       "    }\n",
       "</style>\n",
       "<table border=\"1\" class=\"dataframe\">\n",
       "  <thead>\n",
       "    <tr style=\"text-align: right;\">\n",
       "      <th></th>\n",
       "      <th>id</th>\n",
       "      <th>document</th>\n",
       "      <th>label</th>\n",
       "    </tr>\n",
       "  </thead>\n",
       "  <tbody>\n",
       "    <tr>\n",
       "      <th>0</th>\n",
       "      <td>8112052</td>\n",
       "      <td>어릴때보고 지금다시봐도 재밌어요ㅋㅋ</td>\n",
       "      <td>1</td>\n",
       "    </tr>\n",
       "    <tr>\n",
       "      <th>1</th>\n",
       "      <td>8132799</td>\n",
       "      <td>디자인을 배우는 학생으로, 외국디자이너와 그들이 일군 전통을 통해 발전해가는 문화산...</td>\n",
       "      <td>1</td>\n",
       "    </tr>\n",
       "    <tr>\n",
       "      <th>2</th>\n",
       "      <td>4655635</td>\n",
       "      <td>폴리스스토리 시리즈는 1부터 뉴까지 버릴께 하나도 없음.. 최고.</td>\n",
       "      <td>1</td>\n",
       "    </tr>\n",
       "    <tr>\n",
       "      <th>3</th>\n",
       "      <td>9251303</td>\n",
       "      <td>와.. 연기가 진짜 개쩔구나.. 지루할거라고 생각했는데 몰입해서 봤다.. 그래 이런...</td>\n",
       "      <td>1</td>\n",
       "    </tr>\n",
       "    <tr>\n",
       "      <th>4</th>\n",
       "      <td>10067386</td>\n",
       "      <td>안개 자욱한 밤하늘에 떠 있는 초승달 같은 영화.</td>\n",
       "      <td>1</td>\n",
       "    </tr>\n",
       "  </tbody>\n",
       "</table>\n",
       "</div>"
      ]
     },
     "execution_count": 2,
     "metadata": {},
     "output_type": "execute_result"
    }
   ],
   "execution_count": 2
  },
  {
   "metadata": {
    "ExecuteTime": {
     "end_time": "2025-02-06T05:44:45.546699Z",
     "start_time": "2025-02-06T05:44:45.524462Z"
    }
   },
   "cell_type": "code",
   "source": [
    "print(\"2) 전체 데이터 길이 (결측치 제거 전):\", len(df))\n",
    "print(\"각 컬럼별 결측치 개수:\\n\", df.isnull().sum())\n",
    "# 결측치가 있는 행 제거\n",
    "df = df.dropna()\n",
    "print(\"결측치 제거 후 데이터셋 길이:\", len(df), \"\\n\")"
   ],
   "id": "a11e628e404ecbaa",
   "outputs": [
    {
     "name": "stdout",
     "output_type": "stream",
     "text": [
      "2) 전체 데이터 길이 (결측치 제거 전): 200000\n",
      "각 컬럼별 결측치 개수:\n",
      " id          0\n",
      "document    8\n",
      "label       0\n",
      "dtype: int64\n",
      "결측치 제거 후 데이터셋 길이: 199992 \n",
      "\n"
     ]
    }
   ],
   "execution_count": 3
  },
  {
   "metadata": {
    "ExecuteTime": {
     "end_time": "2025-02-06T05:44:45.876389Z",
     "start_time": "2025-02-06T05:44:45.603086Z"
    }
   },
   "cell_type": "code",
   "source": [
    "okt = Okt()\n",
    "stopwords = ['의', '가', '이', '은', '들', '는', '좀', '잘', '걍', '과', '도', '를', '으로', '자', '에', '와', '한', '하다']"
   ],
   "id": "5f319d11d595b0c7",
   "outputs": [],
   "execution_count": 4
  },
  {
   "metadata": {
    "ExecuteTime": {
     "end_time": "2025-02-06T05:44:45.882268Z",
     "start_time": "2025-02-06T05:44:45.879807Z"
    }
   },
   "cell_type": "code",
   "source": [
    "def text_preprocess(text):\n",
    "    \"\"\"\n",
    "    1. 한글과 공백을 제외한 모든 문자 제거\n",
    "    2. Okt를 사용하여 토큰화 (어간 추출 포함)\n",
    "    3. 불용어 제거\n",
    "    4. 전처리된 토큰들을 공백으로 결합하여 문자열 반환\n",
    "    \"\"\"\n",
    "    # 한글과 공백만 남기기 (숫자, 영문, 특수문자 제거)\n",
    "    text = re.sub(r'[^ㄱ-ㅎㅏ-ㅣ가-힣 ]', '', text)\n",
    "    tokens = okt.morphs(text, stem=True)\n",
    "    tokens = [word for word in tokens if word not in stopwords]\n",
    "    return ' '.join(tokens)"
   ],
   "id": "a1eaeb875eb99d37",
   "outputs": [],
   "execution_count": 5
  },
  {
   "metadata": {
    "ExecuteTime": {
     "end_time": "2025-02-06T05:44:47.344687Z",
     "start_time": "2025-02-06T05:44:45.891978Z"
    }
   },
   "cell_type": "code",
   "source": [
    "sample_text = df['document'].iloc[0]\n",
    "print(\"3) 예제 문장 전처리 결과:\")\n",
    "print(\"원문:\", sample_text)\n",
    "print(\"전처리:\", text_preprocess(sample_text), \"\\n\")"
   ],
   "id": "4278dba193a0cba7",
   "outputs": [
    {
     "name": "stdout",
     "output_type": "stream",
     "text": [
      "3) 예제 문장 전처리 결과:\n",
      "원문: 어릴때보고 지금다시봐도 재밌어요ㅋㅋ\n",
      "전처리: 어리다 때 보고 지금 다시 보다 재밌다 ㅋㅋ \n",
      "\n"
     ]
    }
   ],
   "execution_count": 6
  },
  {
   "metadata": {
    "ExecuteTime": {
     "end_time": "2025-02-06T05:47:59.761641Z",
     "start_time": "2025-02-06T05:44:47.351827Z"
    }
   },
   "cell_type": "code",
   "source": [
    "df['document2'] = df['document'].apply(text_preprocess)\n",
    "# 전처리된 데이터프레임을 CSV 파일(rating.csv)로 저장\n",
    "df.to_csv('rating.csv', index=False, encoding='utf-8')\n",
    "# 저장한 파일을 다시 불러와 확인\n",
    "df2 = pd.read_csv('rating.csv', delimiter=',')\n",
    "print(\"4) 전처리된 데이터프레임 (rating.csv 재불러오기):\")\n",
    "print(df2.head(), \"\\n\")"
   ],
   "id": "f7bdbefddeb866ab",
   "outputs": [
    {
     "name": "stdout",
     "output_type": "stream",
     "text": [
      "4) 전처리된 데이터프레임 (rating.csv 재불러오기):\n",
      "         id                                           document  label  \\\n",
      "0   8112052                                어릴때보고 지금다시봐도 재밌어요ㅋㅋ      1   \n",
      "1   8132799  디자인을 배우는 학생으로, 외국디자이너와 그들이 일군 전통을 통해 발전해가는 문화산...      1   \n",
      "2   4655635               폴리스스토리 시리즈는 1부터 뉴까지 버릴께 하나도 없음.. 최고.      1   \n",
      "3   9251303  와.. 연기가 진짜 개쩔구나.. 지루할거라고 생각했는데 몰입해서 봤다.. 그래 이런...      1   \n",
      "4  10067386                        안개 자욱한 밤하늘에 떠 있는 초승달 같은 영화.      1   \n",
      "\n",
      "                                           document2  \n",
      "0                           어리다 때 보고 지금 다시 보다 재밌다 ㅋㅋ  \n",
      "1  디자인 을 배우다 학생 외국 디자이너 그 일군 전통 을 통해 발전 문화 산업 부럽다...  \n",
      "2                    폴리스스토리 시리즈 부터 뉴 까지 버리다 하나 없다 최고  \n",
      "3        오다 연기 진짜 개 쩔다 지루하다 생각 몰입 보다 그렇다 이렇다 진짜 영화 지  \n",
      "4                        안개 자욱하다 밤하늘 뜨다 있다 초승달 같다 영화   \n",
      "\n"
     ]
    }
   ],
   "execution_count": 7
  },
  {
   "metadata": {
    "ExecuteTime": {
     "end_time": "2025-02-06T05:49:46.435435Z",
     "start_time": "2025-02-06T05:49:46.386964Z"
    }
   },
   "cell_type": "code",
   "source": [
    "X = df['document2']\n",
    "y = df['label']\n",
    "# 학습용 80%, 테스트용 20%로 데이터 분할 (random_state로 재현성 확보)\n",
    "X_train, X_test, y_train, y_test = train_test_split(X, y, test_size=0.2, random_state=42)"
   ],
   "id": "f7e04a278996b9ed",
   "outputs": [],
   "execution_count": 8
  },
  {
   "metadata": {
    "ExecuteTime": {
     "end_time": "2025-02-06T05:49:48.326514Z",
     "start_time": "2025-02-06T05:49:47.415705Z"
    }
   },
   "cell_type": "code",
   "source": [
    "vectorizer = CountVectorizer()\n",
    "X_train_vec = vectorizer.fit_transform(X_train)\n",
    "X_test_vec = vectorizer.transform(X_test)\n",
    "\n",
    "print(\"5) 데이터셋 분할 완료. 학습용 데이터 수:\", X_train_vec.shape[0], \", 테스트용 데이터 수:\", X_test_vec.shape[0], \"\\n\")\n"
   ],
   "id": "62e5d0607a9a88fe",
   "outputs": [
    {
     "name": "stdout",
     "output_type": "stream",
     "text": [
      "5) 데이터셋 분할 완료. 학습용 데이터 수: 159993 , 테스트용 데이터 수: 39999 \n",
      "\n"
     ]
    }
   ],
   "execution_count": 9
  },
  {
   "metadata": {
    "ExecuteTime": {
     "end_time": "2025-02-06T05:52:09.349018Z",
     "start_time": "2025-02-06T05:49:50.241763Z"
    }
   },
   "cell_type": "code",
   "source": [
    "knn = KNeighborsClassifier(n_neighbors=3)  # k=3 (필요에 따라 조정)\n",
    "knn.fit(X_train_vec, y_train)\n",
    "y_pred_knn = knn.predict(X_test_vec)\n",
    "acc_knn = accuracy_score(y_test, y_pred_knn)\n",
    "print(\"6) KNN 모델 정확도: {:.4f}\".format(acc_knn))"
   ],
   "id": "90413b979a0c6928",
   "outputs": [
    {
     "name": "stdout",
     "output_type": "stream",
     "text": [
      "6) KNN 모델 정확도: 0.7313\n"
     ]
    }
   ],
   "execution_count": 10
  },
  {
   "metadata": {
    "ExecuteTime": {
     "end_time": "2025-02-06T05:54:03.529090Z",
     "start_time": "2025-02-06T05:54:01.831259Z"
    }
   },
   "cell_type": "code",
   "source": [
    "lr = LogisticRegression(max_iter=1000)  # max_iter 증가로 수렴 도모\n",
    "lr.fit(X_train_vec, y_train)\n",
    "y_pred_lr = lr.predict(X_test_vec)\n",
    "acc_lr = accuracy_score(y_test, y_pred_lr)\n",
    "print(\"   로지스틱 회귀 모델 정확도: {:.4f}\\n\".format(acc_lr))"
   ],
   "id": "1a85a8dc7b31099b",
   "outputs": [
    {
     "name": "stdout",
     "output_type": "stream",
     "text": [
      "   로지스틱 회귀 모델 정확도: 0.8278\n",
      "\n"
     ]
    }
   ],
   "execution_count": 11
  },
  {
   "metadata": {
    "ExecuteTime": {
     "end_time": "2025-02-06T05:54:20.572855Z",
     "start_time": "2025-02-06T05:54:09.551040Z"
    }
   },
   "cell_type": "code",
   "source": [
    "new_review = input(\"7) 새로운 리뷰를 입력하세요: \")\n",
    "# 전처리 수행\n",
    "new_review_processed = text_preprocess(new_review)\n",
    "# 학습 시 사용한 벡터화 객체를 이용하여 벡터화\n",
    "new_review_vec = vectorizer.transform([new_review_processed])"
   ],
   "id": "25d30be0a5ee1fe1",
   "outputs": [],
   "execution_count": 12
  },
  {
   "metadata": {
    "ExecuteTime": {
     "end_time": "2025-02-06T05:54:22.574277Z",
     "start_time": "2025-02-06T05:54:22.507388Z"
    }
   },
   "cell_type": "code",
   "source": [
    "pred_knn = knn.predict(new_review_vec)[0]\n",
    "pred_lr = lr.predict(new_review_vec)[0]"
   ],
   "id": "4f4ef038510c068f",
   "outputs": [],
   "execution_count": 13
  },
  {
   "metadata": {
    "ExecuteTime": {
     "end_time": "2025-02-06T05:54:23.814904Z",
     "start_time": "2025-02-06T05:54:23.811302Z"
    }
   },
   "cell_type": "code",
   "source": [
    "def label_to_sentiment(label):\n",
    "    return \"긍정\" if label == 1 else \"부정\"\n",
    "\n",
    "print(\"KNN 모델 예측 결과:\", label_to_sentiment(pred_knn))\n",
    "print(\"로지스틱 회귀 모델 예측 결과:\", label_to_sentiment(pred_lr))"
   ],
   "id": "fa4879b525beade1",
   "outputs": [
    {
     "name": "stdout",
     "output_type": "stream",
     "text": [
      "KNN 모델 예측 결과: 긍정\n",
      "로지스틱 회귀 모델 예측 결과: 긍정\n"
     ]
    }
   ],
   "execution_count": 14
  },
  {
   "metadata": {},
   "cell_type": "code",
   "outputs": [],
   "execution_count": null,
   "source": "",
   "id": "1b2c43ddf130b23a"
  }
 ],
 "metadata": {
  "kernelspec": {
   "display_name": "Python (tensorflow)",
   "language": "python",
   "name": "tensorflow"
  },
  "language_info": {
   "codemirror_mode": {
    "name": "ipython",
    "version": 2
   },
   "file_extension": ".py",
   "mimetype": "text/x-python",
   "name": "python",
   "nbconvert_exporter": "python",
   "pygments_lexer": "ipython2",
   "version": "2.7.6"
  }
 },
 "nbformat": 4,
 "nbformat_minor": 5
}
